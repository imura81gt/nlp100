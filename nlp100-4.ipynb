{
 "cells": [
  {
   "cell_type": "markdown",
   "metadata": {
    "slideshow": {
     "slide_type": "slide"
    }
   },
   "source": [
    "第4章: 形態素解析\n",
    "=========================\n",
    "\n",
    "夏目漱石の小説『吾輩は猫である』の文章（[neko.txt](http://www.cl.ecei.tohoku.ac.jp/nlp100/data/neko.txt)）をMeCabを使って形態素解析し，その結果をneko.txt.mecabというファイルに保存せよ．このファイルを用いて，以下の問に対応するプログラムを実装せよ．\n",
    "\n",
    "なお，問題37, 38, 39は[matplotlib](http://matplotlib.org/)もしくは[Gnuplot](http://www.gnuplot.info/)を用いるとよい．\n"
   ]
  },
  {
   "cell_type": "markdown",
   "metadata": {
    "slideshow": {
     "slide_type": "subslide"
    }
   },
   "source": [
    "とりあえずmacでやってしまう。\n",
    "\n",
    "```\n",
    "$ brew install mecab\n",
    "$ brew install mecab-ipadic\n",
    "```\n",
    "\n",
    "output/neko.txt.mecab　を作成\n",
    "\n",
    "```\n",
    "$ mecab resources/neko.txt -o output/neko.txt.mecab\n",
    "```"
   ]
  },
  {
   "cell_type": "code",
   "execution_count": 70,
   "metadata": {
    "collapsed": false
   },
   "outputs": [],
   "source": [
    "#mecab-python\n",
    "import MeCab\n",
    "\n",
    "_m = MeCab.Tagger()\n",
    "\n",
    "with open(\"resources/neko.txt\") as inf:\n",
    "    with open(\"resources/neko.txt.mecab\", \"w\") as outf:\n",
    "        outf.write(_m.parse(inf.read()))\n"
   ]
  },
  {
   "cell_type": "markdown",
   "metadata": {
    "slideshow": {
     "slide_type": "slide"
    }
   },
   "source": [
    "30. 形態素解析結果の読み込み\n",
    "-----------------------------------------\n",
    "形態素解析結果（neko.txt.mecab）を読み込むプログラムを実装せよ．ただし，各形態素は表層形（surface），基本形（base），品詞（pos），品詞細分類1（pos1）をキーとするマッピング型に格納し，1文を形態素（マッピング型）のリストとして表現せよ．第4章の残りの問題では，ここで作ったプログラムを活用せよ．"
   ]
  },
  {
   "cell_type": "markdown",
   "metadata": {
    "slideshow": {
     "slide_type": "subslide"
    }
   },
   "source": [
    "\n",
    "http://taku910.github.io/mecab/#parse\n",
    "\n",
    "> 出力フォーマットは, ChaSen のそれと大きく異なります。 左から,\n",
    ">\n",
    "> 表層形\\t品詞,品詞細分類1,品詞細分類2,品詞細分類3,活用型,活用形,原形,読み,発音\n",
    "\n"
   ]
  },
  {
   "cell_type": "code",
   "execution_count": 45,
   "metadata": {
    "collapsed": false,
    "slideshow": {
     "slide_type": "subslide"
    }
   },
   "outputs": [
    {
     "name": "stdout",
     "output_type": "stream",
     "text": [
      "0 : [{'surface': '一', 'pos': '名詞', 'pos1': '数', 'base': '一'}]\n",
      "1 : [{'surface': '\\u3000', 'pos': '記号', 'pos1': '空白', 'base': '\\u3000'}, {'surface': '吾輩', 'pos': '名詞', 'pos1': '代名詞', 'base': '吾輩'}, {'surface': 'は', 'pos': '助詞', 'pos1': '係助詞', 'base': 'は'}, {'surface': '猫', 'pos': '名詞', 'pos1': '一般', 'base': '猫'}, {'surface': 'で', 'pos': '助動詞', 'pos1': '*', 'base': 'だ'}, {'surface': 'ある', 'pos': '助動詞', 'pos1': '*', 'base': 'ある'}, {'surface': '。', 'pos': '記号', 'pos1': '句点', 'base': '。'}]\n",
      "2 : [{'surface': '名前', 'pos': '名詞', 'pos1': '一般', 'base': '名前'}, {'surface': 'は', 'pos': '助詞', 'pos1': '係助詞', 'base': 'は'}, {'surface': 'まだ', 'pos': '副詞', 'pos1': '助詞類接続', 'base': 'まだ'}, {'surface': '無い', 'pos': '形容詞', 'pos1': '自立', 'base': '無い'}, {'surface': '。', 'pos': '記号', 'pos1': '句点', 'base': '。'}]\n",
      "3 : [{'surface': '\\u3000', 'pos': '記号', 'pos1': '空白', 'base': '\\u3000'}, {'surface': 'どこ', 'pos': '名詞', 'pos1': '代名詞', 'base': 'どこ'}, {'surface': 'で', 'pos': '助詞', 'pos1': '格助詞', 'base': 'で'}, {'surface': '生れ', 'pos': '動詞', 'pos1': '自立', 'base': '生れる'}, {'surface': 'た', 'pos': '助動詞', 'pos1': '*', 'base': 'た'}, {'surface': 'か', 'pos': '助詞', 'pos1': '副助詞／並立助詞／終助詞', 'base': 'か'}, {'surface': 'とんと', 'pos': '副詞', 'pos1': '一般', 'base': 'とんと'}, {'surface': '見当', 'pos': '名詞', 'pos1': 'サ変接続', 'base': '見当'}, {'surface': 'が', 'pos': '助詞', 'pos1': '格助詞', 'base': 'が'}, {'surface': 'つか', 'pos': '動詞', 'pos1': '自立', 'base': 'つく'}, {'surface': 'ぬ', 'pos': '助動詞', 'pos1': '*', 'base': 'ぬ'}, {'surface': '。', 'pos': '記号', 'pos1': '句点', 'base': '。'}]\n",
      "4 : [{'surface': '何', 'pos': '名詞', 'pos1': '代名詞', 'base': '何'}, {'surface': 'でも', 'pos': '助詞', 'pos1': '副助詞', 'base': 'でも'}, {'surface': '薄暗い', 'pos': '形容詞', 'pos1': '自立', 'base': '薄暗い'}, {'surface': 'じめじめ', 'pos': '副詞', 'pos1': '一般', 'base': 'じめじめ'}, {'surface': 'し', 'pos': '動詞', 'pos1': '自立', 'base': 'する'}, {'surface': 'た', 'pos': '助動詞', 'pos1': '*', 'base': 'た'}, {'surface': '所', 'pos': '名詞', 'pos1': '非自立', 'base': '所'}, {'surface': 'で', 'pos': '助詞', 'pos1': '格助詞', 'base': 'で'}, {'surface': 'ニャーニャー', 'pos': '名詞', 'pos1': '一般', 'base': '*\\n'}, {'surface': '泣い', 'pos': '動詞', 'pos1': '自立', 'base': '泣く'}, {'surface': 'て', 'pos': '助詞', 'pos1': '接続助詞', 'base': 'て'}, {'surface': 'いた事', 'pos': '名詞', 'pos1': '一般', 'base': 'いた事'}, {'surface': 'だけ', 'pos': '助詞', 'pos1': '副助詞', 'base': 'だけ'}, {'surface': 'は', 'pos': '助詞', 'pos1': '係助詞', 'base': 'は'}, {'surface': '記憶', 'pos': '名詞', 'pos1': 'サ変接続', 'base': '記憶'}, {'surface': 'し', 'pos': '動詞', 'pos1': '自立', 'base': 'する'}, {'surface': 'て', 'pos': '助詞', 'pos1': '接続助詞', 'base': 'て'}, {'surface': 'いる', 'pos': '動詞', 'pos1': '非自立', 'base': 'いる'}, {'surface': '。', 'pos': '記号', 'pos1': '句点', 'base': '。'}]\n",
      "5 : [{'surface': '吾輩', 'pos': '名詞', 'pos1': '代名詞', 'base': '吾輩'}, {'surface': 'は', 'pos': '助詞', 'pos1': '係助詞', 'base': 'は'}, {'surface': 'ここ', 'pos': '名詞', 'pos1': '代名詞', 'base': 'ここ'}, {'surface': 'で', 'pos': '助詞', 'pos1': '格助詞', 'base': 'で'}, {'surface': '始め', 'pos': '動詞', 'pos1': '自立', 'base': '始める'}, {'surface': 'て', 'pos': '助詞', 'pos1': '接続助詞', 'base': 'て'}, {'surface': '人間', 'pos': '名詞', 'pos1': '一般', 'base': '人間'}, {'surface': 'という', 'pos': '助詞', 'pos1': '格助詞', 'base': 'という'}, {'surface': 'もの', 'pos': '名詞', 'pos1': '非自立', 'base': 'もの'}, {'surface': 'を', 'pos': '助詞', 'pos1': '格助詞', 'base': 'を'}, {'surface': '見', 'pos': '動詞', 'pos1': '自立', 'base': '見る'}, {'surface': 'た', 'pos': '助動詞', 'pos1': '*', 'base': 'た'}, {'surface': '。', 'pos': '記号', 'pos1': '句点', 'base': '。'}]\n",
      "6 : [{'surface': 'しかも', 'pos': '接続詞', 'pos1': '*', 'base': 'しかも'}, {'surface': 'あと', 'pos': '名詞', 'pos1': '一般', 'base': 'あと'}, {'surface': 'で', 'pos': '助詞', 'pos1': '格助詞', 'base': 'で'}, {'surface': '聞く', 'pos': '動詞', 'pos1': '自立', 'base': '聞く'}, {'surface': 'と', 'pos': '助詞', 'pos1': '接続助詞', 'base': 'と'}, {'surface': 'それ', 'pos': '名詞', 'pos1': '代名詞', 'base': 'それ'}, {'surface': 'は', 'pos': '助詞', 'pos1': '係助詞', 'base': 'は'}, {'surface': '書生', 'pos': '名詞', 'pos1': '一般', 'base': '書生'}, {'surface': 'という', 'pos': '助詞', 'pos1': '格助詞', 'base': 'という'}, {'surface': '人間', 'pos': '名詞', 'pos1': '一般', 'base': '人間'}, {'surface': '中', 'pos': '名詞', 'pos1': '接尾', 'base': '中'}, {'surface': 'で', 'pos': '助詞', 'pos1': '格助詞', 'base': 'で'}, {'surface': '一番', 'pos': '名詞', 'pos1': '副詞可能', 'base': '一番'}, {'surface': '獰悪', 'pos': '名詞', 'pos1': '形容動詞語幹', 'base': '獰悪'}, {'surface': 'な', 'pos': '助動詞', 'pos1': '*', 'base': 'だ'}, {'surface': '種族', 'pos': '名詞', 'pos1': '一般', 'base': '種族'}, {'surface': 'で', 'pos': '助動詞', 'pos1': '*', 'base': 'だ'}, {'surface': 'あっ', 'pos': '助動詞', 'pos1': '*', 'base': 'ある'}, {'surface': 'た', 'pos': '助動詞', 'pos1': '*', 'base': 'た'}, {'surface': 'そう', 'pos': '名詞', 'pos1': '特殊', 'base': 'そう'}, {'surface': 'だ', 'pos': '助動詞', 'pos1': '*', 'base': 'だ'}, {'surface': '。', 'pos': '記号', 'pos1': '句点', 'base': '。'}]\n",
      "7 : [{'surface': 'この', 'pos': '連体詞', 'pos1': '*', 'base': 'この'}, {'surface': '書生', 'pos': '名詞', 'pos1': '一般', 'base': '書生'}, {'surface': 'という', 'pos': '助詞', 'pos1': '格助詞', 'base': 'という'}, {'surface': 'の', 'pos': '名詞', 'pos1': '非自立', 'base': 'の'}, {'surface': 'は', 'pos': '助詞', 'pos1': '係助詞', 'base': 'は'}, {'surface': '時々', 'pos': '副詞', 'pos1': '一般', 'base': '時々'}, {'surface': '我々', 'pos': '名詞', 'pos1': '代名詞', 'base': '我々'}, {'surface': 'を', 'pos': '助詞', 'pos1': '格助詞', 'base': 'を'}, {'surface': '捕え', 'pos': '動詞', 'pos1': '自立', 'base': '捕える'}, {'surface': 'て', 'pos': '助詞', 'pos1': '接続助詞', 'base': 'て'}, {'surface': '煮', 'pos': '動詞', 'pos1': '自立', 'base': '煮る'}, {'surface': 'て', 'pos': '助詞', 'pos1': '接続助詞', 'base': 'て'}, {'surface': '食う', 'pos': '動詞', 'pos1': '自立', 'base': '食う'}, {'surface': 'という', 'pos': '助詞', 'pos1': '格助詞', 'base': 'という'}, {'surface': '話', 'pos': '名詞', 'pos1': 'サ変接続', 'base': '話'}, {'surface': 'で', 'pos': '助動詞', 'pos1': '*', 'base': 'だ'}, {'surface': 'ある', 'pos': '助動詞', 'pos1': '*', 'base': 'ある'}, {'surface': '。', 'pos': '記号', 'pos1': '句点', 'base': '。'}]\n",
      "8 : [{'surface': 'しかし', 'pos': '接続詞', 'pos1': '*', 'base': 'しかし'}, {'surface': 'その', 'pos': '連体詞', 'pos1': '*', 'base': 'その'}, {'surface': '当時', 'pos': '名詞', 'pos1': '副詞可能', 'base': '当時'}, {'surface': 'は', 'pos': '助詞', 'pos1': '係助詞', 'base': 'は'}, {'surface': '何', 'pos': '名詞', 'pos1': '代名詞', 'base': '何'}, {'surface': 'という', 'pos': '助詞', 'pos1': '格助詞', 'base': 'という'}, {'surface': '考', 'pos': '名詞', 'pos1': '一般', 'base': '考'}, {'surface': 'も', 'pos': '助詞', 'pos1': '係助詞', 'base': 'も'}, {'surface': 'なかっ', 'pos': '形容詞', 'pos1': '自立', 'base': 'ない'}, {'surface': 'た', 'pos': '助動詞', 'pos1': '*', 'base': 'た'}, {'surface': 'から', 'pos': '助詞', 'pos1': '接続助詞', 'base': 'から'}, {'surface': '別段', 'pos': '副詞', 'pos1': '助詞類接続', 'base': '別段'}, {'surface': '恐し', 'pos': '形容詞', 'pos1': '自立', 'base': '恐い'}, {'surface': 'いとも', 'pos': '副詞', 'pos1': '一般', 'base': 'いとも'}, {'surface': '思わ', 'pos': '動詞', 'pos1': '自立', 'base': '思う'}, {'surface': 'なかっ', 'pos': '助動詞', 'pos1': '*', 'base': 'ない'}, {'surface': 'た', 'pos': '助動詞', 'pos1': '*', 'base': 'た'}, {'surface': '。', 'pos': '記号', 'pos1': '句点', 'base': '。'}]\n",
      "9 : [{'surface': 'ただ', 'pos': '接続詞', 'pos1': '*', 'base': 'ただ'}, {'surface': '彼', 'pos': '名詞', 'pos1': '代名詞', 'base': '彼'}, {'surface': 'の', 'pos': '助詞', 'pos1': '連体化', 'base': 'の'}, {'surface': '掌', 'pos': '名詞', 'pos1': '一般', 'base': '掌'}, {'surface': 'に', 'pos': '助詞', 'pos1': '格助詞', 'base': 'に'}, {'surface': '載せ', 'pos': '動詞', 'pos1': '自立', 'base': '載せる'}, {'surface': 'られ', 'pos': '動詞', 'pos1': '接尾', 'base': 'られる'}, {'surface': 'て', 'pos': '助詞', 'pos1': '接続助詞', 'base': 'て'}, {'surface': 'スー', 'pos': '名詞', 'pos1': '固有名詞', 'base': 'スー'}, {'surface': 'と', 'pos': '助詞', 'pos1': '格助詞', 'base': 'と'}, {'surface': '持ち上げ', 'pos': '動詞', 'pos1': '自立', 'base': '持ち上げる'}, {'surface': 'られ', 'pos': '動詞', 'pos1': '接尾', 'base': 'られる'}, {'surface': 'た', 'pos': '助動詞', 'pos1': '*', 'base': 'た'}, {'surface': '時', 'pos': '名詞', 'pos1': '非自立', 'base': '時'}, {'surface': '何だか', 'pos': '副詞', 'pos1': '一般', 'base': '何だか'}, {'surface': 'フワフワ', 'pos': '副詞', 'pos1': '助詞類接続', 'base': 'フワフワ'}, {'surface': 'し', 'pos': '動詞', 'pos1': '自立', 'base': 'する'}, {'surface': 'た', 'pos': '助動詞', 'pos1': '*', 'base': 'た'}, {'surface': '感じ', 'pos': '名詞', 'pos1': '一般', 'base': '感じ'}, {'surface': 'が', 'pos': '助詞', 'pos1': '格助詞', 'base': 'が'}, {'surface': 'あっ', 'pos': '動詞', 'pos1': '自立', 'base': 'ある'}, {'surface': 'た', 'pos': '助動詞', 'pos1': '*', 'base': 'た'}, {'surface': 'ばかり', 'pos': '助詞', 'pos1': '副助詞', 'base': 'ばかり'}, {'surface': 'で', 'pos': '助動詞', 'pos1': '*', 'base': 'だ'}, {'surface': 'ある', 'pos': '助動詞', 'pos1': '*', 'base': 'ある'}, {'surface': '。', 'pos': '記号', 'pos1': '句点', 'base': '。'}]\n"
     ]
    }
   ],
   "source": [
    "#全形態素リスト\n",
    "morphemes_list = []\n",
    "\n",
    "with open('output/neko.txt.mecab') as f:\n",
    "    lines = f.readlines()\n",
    "\n",
    "    #一文の形態素マッピング\n",
    "    morphemes = []\n",
    "\n",
    "    for line in lines:\n",
    "        li = line.split('\\t')\n",
    "        surface = li[0]\n",
    "        if surface == \"EOS\\n\":\n",
    "            if morphemes != []:\n",
    "                morphemes_list.append(morphemes)\n",
    "                \n",
    "            morphemes = []\n",
    "        else:\n",
    "            l = li[1].split(',')\n",
    "\n",
    "            dict = {\n",
    "                \"surface\": surface,\n",
    "                \"base\": l[6],\n",
    "                \"pos\": l[0],\n",
    "                \"pos1\": l[1]\n",
    "            }\n",
    "            morphemes.append(dict)\n",
    "            \n",
    "        #    lines.append(morphemes)\n",
    "        #else:\n",
    "        #    morphemes.append(line)\n",
    "\n",
    "#表層形（surface）\n",
    "#基本形（base）\n",
    "#品詞（pos）\n",
    "#品詞細分類1（pos1）\n",
    "        \n",
    "        \n",
    "for i in range(10):\n",
    "        print(i,\":\",morphemes_list[i])\n"
   ]
  },
  {
   "cell_type": "markdown",
   "metadata": {
    "slideshow": {
     "slide_type": "slide"
    }
   },
   "source": [
    "31. 動詞\n",
    "-------------------------------------------------------\n",
    "動詞の表層形をすべて抽出せよ．\n",
    "\n",
    "32. 動詞の原形\n",
    "-------------------------------------------------------\n",
    "動詞の原形をすべて抽出せよ．\n",
    "\n"
   ]
  },
  {
   "cell_type": "code",
   "execution_count": 88,
   "metadata": {
    "collapsed": false,
    "slideshow": {
     "slide_type": "subslide"
    }
   },
   "outputs": [
    {
     "name": "stdout",
     "output_type": "stream",
     "text": [
      "['のみ', '来る', '見る', '詰る', '考える', '考え出す', '抜け', '追付こ', '知っ', '痛む', '煮', '目ざす', 'ここ', '倦ん', '逃げる', '聞い', '帰っ', '鳴かせる', 'ある', 'からかう', 'かよう', '中っ', '足る', 'し', 'のみ', '起きる', '持て余す', '誓っ', 'のみ', '負け', '生じ', '出れ', 'あっ', '坐っ', '飲む', '出']\n",
      "['のむ', '来る', '見る', '詰る', '考える', '考え出す', '抜ける', '追付く', '知る', '痛む', '煮る', '目ざす', 'こく', '倦む', '逃げる', '聞く', '帰る', '鳴かせる', 'ある', 'からかう', 'かよう', '中る', '足る', 'する', 'のむ', '起きる', '持て余す', '誓う', 'のむ', '負ける', '生じる', '出る', 'ある', '坐る', '飲む', '出る']\n"
     ]
    }
   ],
   "source": [
    "verb_surface = [morphemes[0][\"surface\"] for morphemes in morphemes_list if morphemes[0][\"pos\"].find(\"動詞\")  == 0]\n",
    "print(verb_surface[::10])\n",
    "verb_base = [morphemes[0][\"base\"] for morphemes in morphemes_list if morphemes[0][\"pos\"].find(\"動詞\")  == 0]\n",
    "print(verb_base[::10])\n"
   ]
  },
  {
   "cell_type": "markdown",
   "metadata": {},
   "source": [
    "33. サ変名詞\n",
    "-------------------------------------------------------\n",
    "サ変接続の名詞をすべて抽出せよ．\n",
    "\n"
   ]
  },
  {
   "cell_type": "code",
   "execution_count": null,
   "metadata": {
    "collapsed": true
   },
   "outputs": [],
   "source": []
  },
  {
   "cell_type": "markdown",
   "metadata": {},
   "source": [
    "34. 「AのB」\n",
    "-------------------------------------------------------\n",
    "2つの名詞が「の」で連結されている名詞句を抽出せよ．\n",
    "\n",
    "35. 名詞の連接\n",
    "-------------------------------------------------------\n",
    "名詞の連接（連続して出現する名詞）を最長一致で抽出せよ．\n",
    "\n",
    "36. 単語の出現頻度\n",
    "-------------------------------------------------------\n",
    "文章中に出現する単語とその出現頻度を求め，出現頻度の高い順に並べよ．\n",
    "\n",
    "37. 頻度上位10語\n",
    "-------------------------------------------------------\n",
    "出現頻度が高い10語とその出現頻度をグラフ（例えば棒グラフなど）で表示せよ．\n",
    "\n",
    "38. ヒストグラム\n",
    "-------------------------------------------------------\n",
    "単語の出現頻度のヒストグラム（横軸に出現頻度，縦軸に出現頻度をとる単語の種類数を棒グラフで表したもの）を描け．\n",
    "\n",
    "39. Zipfの法則\n",
    "-------------------------------------------------------\n",
    "単語の出現頻度順位を横軸，その出現頻度を縦軸として，両対数グラフをプロットせよ．\n",
    "\n"
   ]
  },
  {
   "cell_type": "code",
   "execution_count": null,
   "metadata": {
    "collapsed": true
   },
   "outputs": [],
   "source": []
  }
 ],
 "metadata": {
  "celltoolbar": "Slideshow",
  "kernelspec": {
   "display_name": "Python 3",
   "language": "python",
   "name": "python3"
  },
  "language_info": {
   "codemirror_mode": {
    "name": "ipython",
    "version": 3
   },
   "file_extension": ".py",
   "mimetype": "text/x-python",
   "name": "python",
   "nbconvert_exporter": "python",
   "pygments_lexer": "ipython3",
   "version": "3.5.1"
  }
 },
 "nbformat": 4,
 "nbformat_minor": 0
}
