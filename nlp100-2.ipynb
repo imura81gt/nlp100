{
 "cells": [
  {
   "cell_type": "markdown",
   "metadata": {
    "slideshow": {
     "slide_type": "slide"
    }
   },
   "source": [
    "第2章: UNIXコマンドの基礎\n",
    "===============================\n",
    "\n",
    "`hightemp.txt` は，日本の最高気温の記録を「都道府県」「地点」「℃」「日」のタブ区切り形式で格納したファイルである．以下の処理を行うプログラムを作成し， `hightemp.txt` を入力ファイルとして実行せよ．さらに，同様の処理をUNIXコマンドでも実行し，プログラムの実行結果を確認せよ．\n"
   ]
  },
  {
   "cell_type": "markdown",
   "metadata": {
    "slideshow": {
     "slide_type": "slide"
    }
   },
   "source": [
    "10. 行数のカウント\n",
    "-----------------------------------\n",
    "行数をカウントせよ．確認にはwcコマンドを用いよ．"
   ]
  },
  {
   "cell_type": "code",
   "execution_count": 26,
   "metadata": {
    "collapsed": false,
    "slideshow": {
     "slide_type": "subslide"
    }
   },
   "outputs": [
    {
     "name": "stdout",
     "output_type": "stream",
     "text": [
      "24\n",
      "24\n",
      "555\n"
     ]
    }
   ],
   "source": [
    "import sys\n",
    "\n",
    "file = open('/resources/hightemp.txt')\n",
    "\n",
    "lines = file.readlines()\n",
    "print(len(lines))\n",
    "\n",
    "file.close()\n",
    "\n",
    "\n",
    "with open('/resources/hightemp.txt') as f:\n",
    "    lines = f.readlines()\n",
    "\n",
    "\n",
    "with open('/resources/hightemp.txt') as f:\n",
    "    lines2 = f.read()\n",
    "\n",
    "\n",
    "print(len(lines))\n",
    "#行数じゃなくて文字数になる\n",
    "print(len(lines2))\n"
   ]
  },
  {
   "cell_type": "markdown",
   "metadata": {
    "slideshow": {
     "slide_type": "slide"
    }
   },
   "source": [
    "11. タブをスペースに置換\n",
    "-------------------------------------\n",
    "\n",
    "タブ1文字につきスペース1文字に置換せよ．確認にはsedコマンド，trコマンド，もしくはexpandコマンドを\n",
    "用いよ．"
   ]
  },
  {
   "cell_type": "code",
   "execution_count": 27,
   "metadata": {
    "collapsed": false,
    "slideshow": {
     "slide_type": "subslide"
    }
   },
   "outputs": [
    {
     "name": "stdout",
     "output_type": "stream",
     "text": [
      "高知県\t江川崎\t41\t2013-08-12\n",
      "埼玉県\t熊谷\t40.9\t2007-08-16\n",
      "岐阜県\t多治見\t40.9\t2007-08-16\n",
      "山形県\t山形\t40.8\t1933-07-25\n",
      "山梨県\t甲府\t40.7\t2013-08-10\n",
      "和歌山県\tかつらぎ\t40.6\t1994-08-08\n",
      "静岡県\t天竜\t40.6\t1994-08-04\n",
      "山梨県\t勝沼\t40.5\t2013-08-10\n",
      "埼玉県\t越谷\t40.4\t2007-08-16\n",
      "群馬県\t館林\t40.3\t2007-08-16\n",
      "群馬県\t上里見\t40.3\t1998-07-04\n",
      "愛知県\t愛西\t40.3\t1994-08-05\n",
      "千葉県\t牛久\t40.2\t2004-07-20\n",
      "静岡県\t佐久間\t40.2\t2001-07-24\n",
      "愛媛県\t宇和島\t40.2\t1927-07-22\n",
      "山形県\t酒田\t40.1\t1978-08-03\n",
      "岐阜県\t美濃\t40\t2007-08-16\n",
      "群馬県\t前橋\t40\t2001-07-24\n",
      "千葉県\t茂原\t39.9\t2013-08-11\n",
      "埼玉県\t鳩山\t39.9\t1997-07-05\n",
      "大阪府\t豊中\t39.9\t1994-08-08\n",
      "山梨県\t大月\t39.9\t1990-07-19\n",
      "山形県\t鶴岡\t39.9\t1978-08-03\n",
      "愛知県\t名古屋\t39.9\t1942-08-02\n",
      "\n",
      "高知県 江川崎 41 2013-08-12\n",
      "埼玉県 熊谷 40.9 2007-08-16\n",
      "岐阜県 多治見 40.9 2007-08-16\n",
      "山形県 山形 40.8 1933-07-25\n",
      "山梨県 甲府 40.7 2013-08-10\n",
      "和歌山県 かつらぎ 40.6 1994-08-08\n",
      "静岡県 天竜 40.6 1994-08-04\n",
      "山梨県 勝沼 40.5 2013-08-10\n",
      "埼玉県 越谷 40.4 2007-08-16\n",
      "群馬県 館林 40.3 2007-08-16\n",
      "群馬県 上里見 40.3 1998-07-04\n",
      "愛知県 愛西 40.3 1994-08-05\n",
      "千葉県 牛久 40.2 2004-07-20\n",
      "静岡県 佐久間 40.2 2001-07-24\n",
      "愛媛県 宇和島 40.2 1927-07-22\n",
      "山形県 酒田 40.1 1978-08-03\n",
      "岐阜県 美濃 40 2007-08-16\n",
      "群馬県 前橋 40 2001-07-24\n",
      "千葉県 茂原 39.9 2013-08-11\n",
      "埼玉県 鳩山 39.9 1997-07-05\n",
      "大阪府 豊中 39.9 1994-08-08\n",
      "山梨県 大月 39.9 1990-07-19\n",
      "山形県 鶴岡 39.9 1978-08-03\n",
      "愛知県 名古屋 39.9 1942-08-02\n",
      "\n"
     ]
    }
   ],
   "source": [
    "import sys\n",
    "import re\n",
    "\n",
    "with open('/resources/hightemp.txt') as f:\n",
    "    lines = f.read()\n",
    "    print(lines)\n",
    "    print(re.sub(\"\\t\", \" \" , lines))\n"
   ]
  },
  {
   "cell_type": "markdown",
   "metadata": {
    "slideshow": {
     "slide_type": "slide"
    }
   },
   "source": [
    "12. 1列目をcol1.txtに，2列目をcol2.txtに保存\n",
    "----------------------------------------------\n",
    "\n",
    "各行の1列目だけを抜き出したものをcol1.txtに，2列目だけを抜き出したものをcol2.txtとしてファイルに保存せよ．確認にはcutコマンドを用いよ．"
   ]
  },
  {
   "cell_type": "code",
   "execution_count": 26,
   "metadata": {
    "collapsed": false,
    "slideshow": {
     "slide_type": "subslide"
    }
   },
   "outputs": [
    {
     "name": "stdout",
     "output_type": "stream",
     "text": [
      "+++++output/col1.txt\n",
      "高知県\n",
      "埼玉県\n",
      "岐阜県\n",
      "山形県\n",
      "山梨県\n",
      "和歌山県\n",
      "静岡県\n",
      "山梨県\n",
      "埼玉県\n",
      "群馬県\n",
      "群馬県\n",
      "愛知県\n",
      "千葉県\n",
      "静岡県\n",
      "愛媛県\n",
      "山形県\n",
      "岐阜県\n",
      "群馬県\n",
      "千葉県\n",
      "埼玉県\n",
      "大阪府\n",
      "山梨県\n",
      "山形県\n",
      "愛知県\n",
      "\n",
      "+++++output/col2.txt\n",
      "江川崎\n",
      "熊谷\n",
      "多治見\n",
      "山形\n",
      "甲府\n",
      "かつらぎ\n",
      "天竜\n",
      "勝沼\n",
      "越谷\n",
      "館林\n",
      "上里見\n",
      "愛西\n",
      "牛久\n",
      "佐久間\n",
      "宇和島\n",
      "酒田\n",
      "美濃\n",
      "前橋\n",
      "茂原\n",
      "鳩山\n",
      "豊中\n",
      "大月\n",
      "鶴岡\n",
      "名古屋\n",
      "\n"
     ]
    }
   ],
   "source": [
    "import sys\n",
    "\n",
    "\n",
    "def write_col(col, lines):\n",
    "    filename = 'output/col' + str(col) + '.txt'\n",
    "    with open(filename, \"w\") as output:\n",
    "        for line in lines:\n",
    "            output.writelines(line.split()[col-1] + '\\n')\n",
    "    \n",
    "\n",
    "with open('resources/hightemp.txt') as f:\n",
    "    # read() – ファイルを全て読み込み、その文字列データに対して処理を行う\n",
    "    # readlines() – ファイルを全て読み込み、1行毎に処理を行う\n",
    "    # readline() – 1行毎に読み込み、その処理を繰り返す\n",
    "    lines = f.readlines()\n",
    "    \n",
    "    #with open('output/col1.txt', 'w') as output:\n",
    "    #   for line in lines:\n",
    "    #       output.writelines(line.split()[0] + '\\n')\n",
    "\n",
    "\n",
    "write_col(1, lines)\n",
    "write_col(2, lines)\n",
    "    \n",
    "\n",
    "print('+++++output/col1.txt')\n",
    "with open('output/col1.txt') as output:\n",
    "    lines = output.read()\n",
    "    print(lines)\n",
    "\n",
    "    \n",
    "print('+++++output/col2.txt')\n",
    "with open('output/col2.txt') as output:\n",
    "    lines = output.read()\n",
    "    print(lines)\n"
   ]
  },
  {
   "cell_type": "code",
   "execution_count": 41,
   "metadata": {
    "collapsed": false,
    "slideshow": {
     "slide_type": "subslide"
    }
   },
   "outputs": [],
   "source": [
    "with open('output/col1.txt') as col1:\n",
    "    col1lines = col1.readlines()\n",
    "\n",
    "    \n",
    "with open('output/col2.txt') as col2:\n",
    "    col2lines = col2.readlines()\n",
    "\n",
    "    \n",
    "with open('output/col12.txt', \"w\") as col12:\n",
    "    for col1, col2 in zip(col1lines, col2lines):\n",
    "        col12.write(\"\\t\".join([col1.rstrip(), col2]))\n"
   ]
  },
  {
   "cell_type": "markdown",
   "metadata": {
    "slideshow": {
     "slide_type": "slide"
    }
   },
   "source": [
    "14. 先頭からN行を出力\n",
    "--------------------------------------------\n",
    "\n",
    "自然数Nをコマンドライン引数などの手段で受け取り，入力のうち先頭のN行だけを表示せよ．確認にはheadコマンドを用いよ．\n",
    "\n",
    "\n",
    "15. 末尾のN行を出力\n",
    "----------------------------------------------\n",
    "自然数Nをコマンドライン引数などの手段で受け取り，入力のうち末尾のN行だけを表示せよ．確認にはtailコマンドを用いよ．"
   ]
  },
  {
   "cell_type": "code",
   "execution_count": 56,
   "metadata": {
    "collapsed": false,
    "slideshow": {
     "slide_type": "subslide"
    }
   },
   "outputs": [
    {
     "name": "stdout",
     "output_type": "stream",
     "text": [
      "['高知県\\t江川崎\\n', '埼玉県\\t熊谷\\n', '岐阜県\\t多治見\\n', '山形県\\t山形\\n', '山梨県\\t甲府\\n', '和歌山県\\tかつらぎ\\n', '静岡県\\t天竜\\n', '山梨県\\t勝沼\\n', '埼玉県\\t越谷\\n', '群馬県\\t館林\\n', '群馬県\\t上里見\\n', '愛知県\\t愛西\\n', '千葉県\\t牛久\\n', '静岡県\\t佐久間\\n', '愛媛県\\t宇和島\\n', '山形県\\t酒田\\n', '岐阜県\\t美濃\\n', '群馬県\\t前橋\\n', '千葉県\\t茂原\\n', '埼玉県\\t鳩山\\n', '大阪府\\t豊中\\n', '山梨県\\t大月\\n', '山形県\\t鶴岡\\n', '愛知県\\t名古屋\\n']\n",
      "['高知県\\t江川崎\\n', '埼玉県\\t熊谷\\n', '岐阜県\\t多治見\\n']\n",
      "['山梨県\\t大月\\n', '山形県\\t鶴岡\\n', '愛知県\\t名古屋\\n']\n"
     ]
    }
   ],
   "source": [
    "with open('output/col12.txt') as col12:\n",
    "    col12lines = col12.readlines()\n",
    "\n",
    "number_of_line = 3\n",
    "\n",
    "if(number_of_line <= len(col12lines)):\n",
    "    headline = col12lines[0:number_of_line]\n",
    "    tailline = col12lines[len(col12lines)-number_of_line:len(col12lines)]\n",
    "    print(col12lines)\n",
    "    print(headline)\n",
    "    print(tailline)\n",
    "else:\n",
    "    print('number_of_line >  len(col12lines)')"
   ]
  },
  {
   "cell_type": "markdown",
   "metadata": {
    "slideshow": {
     "slide_type": "slide"
    }
   },
   "source": [
    "16. ファイルをN分割する\n",
    "--------------------------------------------\n",
    "\n",
    "自然数Nをコマンドライン引数などの手段で受け取り，入力のファイルを行単位でN分割せよ．同様の処理をsplitコマンドで実現せよ．"
   ]
  },
  {
   "cell_type": "code",
   "execution_count": 1,
   "metadata": {
    "collapsed": false,
    "slideshow": {
     "slide_type": "subslide"
    }
   },
   "outputs": [
    {
     "name": "stdout",
     "output_type": "stream",
     "text": [
      "i: 0\n",
      "ERROR!\n",
      "i: 1\n",
      "['高知県\\t江川崎\\n', '埼玉県\\t熊谷\\n', '岐阜県\\t多治見\\n', '山形県\\t山形\\n', '山梨県\\t甲府\\n', '和歌山県\\tかつらぎ\\n', '静岡県\\t天竜\\n', '山梨県\\t勝沼\\n', '埼玉県\\t越谷\\n', '群馬県\\t館林\\n', '群馬県\\t上里見\\n', '愛知県\\t愛西\\n', '千葉県\\t牛久\\n', '静岡県\\t佐久間\\n', '愛媛県\\t宇和島\\n', '山形県\\t酒田\\n', '岐阜県\\t美濃\\n', '群馬県\\t前橋\\n', '千葉県\\t茂原\\n', '埼玉県\\t鳩山\\n', '大阪府\\t豊中\\n', '山梨県\\t大月\\n', '山形県\\t鶴岡\\n', '愛知県\\t名古屋\\n']\n",
      "i: 2\n",
      "['高知県\\t江川崎\\n', '埼玉県\\t熊谷\\n', '岐阜県\\t多治見\\n', '山形県\\t山形\\n', '山梨県\\t甲府\\n', '和歌山県\\tかつらぎ\\n', '静岡県\\t天竜\\n', '山梨県\\t勝沼\\n', '埼玉県\\t越谷\\n', '群馬県\\t館林\\n', '群馬県\\t上里見\\n', '愛知県\\t愛西\\n']\n",
      "['千葉県\\t牛久\\n', '静岡県\\t佐久間\\n', '愛媛県\\t宇和島\\n', '山形県\\t酒田\\n', '岐阜県\\t美濃\\n', '群馬県\\t前橋\\n', '千葉県\\t茂原\\n', '埼玉県\\t鳩山\\n', '大阪府\\t豊中\\n', '山梨県\\t大月\\n', '山形県\\t鶴岡\\n', '愛知県\\t名古屋\\n']\n",
      "i: 3\n",
      "['高知県\\t江川崎\\n', '埼玉県\\t熊谷\\n', '岐阜県\\t多治見\\n', '山形県\\t山形\\n', '山梨県\\t甲府\\n', '和歌山県\\tかつらぎ\\n', '静岡県\\t天竜\\n', '山梨県\\t勝沼\\n']\n",
      "['埼玉県\\t越谷\\n', '群馬県\\t館林\\n', '群馬県\\t上里見\\n', '愛知県\\t愛西\\n', '千葉県\\t牛久\\n', '静岡県\\t佐久間\\n', '愛媛県\\t宇和島\\n', '山形県\\t酒田\\n']\n",
      "['岐阜県\\t美濃\\n', '群馬県\\t前橋\\n', '千葉県\\t茂原\\n', '埼玉県\\t鳩山\\n', '大阪府\\t豊中\\n', '山梨県\\t大月\\n', '山形県\\t鶴岡\\n', '愛知県\\t名古屋\\n']\n",
      "i: 4\n",
      "['高知県\\t江川崎\\n', '埼玉県\\t熊谷\\n', '岐阜県\\t多治見\\n', '山形県\\t山形\\n', '山梨県\\t甲府\\n', '和歌山県\\tかつらぎ\\n']\n",
      "['静岡県\\t天竜\\n', '山梨県\\t勝沼\\n', '埼玉県\\t越谷\\n', '群馬県\\t館林\\n', '群馬県\\t上里見\\n', '愛知県\\t愛西\\n']\n",
      "['千葉県\\t牛久\\n', '静岡県\\t佐久間\\n', '愛媛県\\t宇和島\\n', '山形県\\t酒田\\n', '岐阜県\\t美濃\\n', '群馬県\\t前橋\\n']\n",
      "['千葉県\\t茂原\\n', '埼玉県\\t鳩山\\n', '大阪府\\t豊中\\n', '山梨県\\t大月\\n', '山形県\\t鶴岡\\n', '愛知県\\t名古屋\\n']\n",
      "i: 5\n",
      "len(col12lines) % number_of_parts != 0\n",
      "i: 6\n",
      "['高知県\\t江川崎\\n', '埼玉県\\t熊谷\\n', '岐阜県\\t多治見\\n', '山形県\\t山形\\n']\n",
      "['山梨県\\t甲府\\n', '和歌山県\\tかつらぎ\\n', '静岡県\\t天竜\\n', '山梨県\\t勝沼\\n']\n",
      "['埼玉県\\t越谷\\n', '群馬県\\t館林\\n', '群馬県\\t上里見\\n', '愛知県\\t愛西\\n']\n",
      "['千葉県\\t牛久\\n', '静岡県\\t佐久間\\n', '愛媛県\\t宇和島\\n', '山形県\\t酒田\\n']\n",
      "['岐阜県\\t美濃\\n', '群馬県\\t前橋\\n', '千葉県\\t茂原\\n', '埼玉県\\t鳩山\\n']\n",
      "['大阪府\\t豊中\\n', '山梨県\\t大月\\n', '山形県\\t鶴岡\\n', '愛知県\\t名古屋\\n']\n",
      "i: 7\n",
      "len(col12lines) % number_of_parts != 0\n",
      "i: 8\n",
      "['高知県\\t江川崎\\n', '埼玉県\\t熊谷\\n', '岐阜県\\t多治見\\n']\n",
      "['山形県\\t山形\\n', '山梨県\\t甲府\\n', '和歌山県\\tかつらぎ\\n']\n",
      "['静岡県\\t天竜\\n', '山梨県\\t勝沼\\n', '埼玉県\\t越谷\\n']\n",
      "['群馬県\\t館林\\n', '群馬県\\t上里見\\n', '愛知県\\t愛西\\n']\n",
      "['千葉県\\t牛久\\n', '静岡県\\t佐久間\\n', '愛媛県\\t宇和島\\n']\n",
      "['山形県\\t酒田\\n', '岐阜県\\t美濃\\n', '群馬県\\t前橋\\n']\n",
      "['千葉県\\t茂原\\n', '埼玉県\\t鳩山\\n', '大阪府\\t豊中\\n']\n",
      "['山梨県\\t大月\\n', '山形県\\t鶴岡\\n', '愛知県\\t名古屋\\n']\n",
      "i: 9\n",
      "len(col12lines) % number_of_parts != 0\n",
      "i: 10\n",
      "len(col12lines) % number_of_parts != 0\n",
      "i: 11\n",
      "len(col12lines) % number_of_parts != 0\n",
      "i: 12\n",
      "['高知県\\t江川崎\\n', '埼玉県\\t熊谷\\n']\n",
      "['岐阜県\\t多治見\\n', '山形県\\t山形\\n']\n",
      "['山梨県\\t甲府\\n', '和歌山県\\tかつらぎ\\n']\n",
      "['静岡県\\t天竜\\n', '山梨県\\t勝沼\\n']\n",
      "['埼玉県\\t越谷\\n', '群馬県\\t館林\\n']\n",
      "['群馬県\\t上里見\\n', '愛知県\\t愛西\\n']\n",
      "['千葉県\\t牛久\\n', '静岡県\\t佐久間\\n']\n",
      "['愛媛県\\t宇和島\\n', '山形県\\t酒田\\n']\n",
      "['岐阜県\\t美濃\\n', '群馬県\\t前橋\\n']\n",
      "['千葉県\\t茂原\\n', '埼玉県\\t鳩山\\n']\n",
      "['大阪府\\t豊中\\n', '山梨県\\t大月\\n']\n",
      "['山形県\\t鶴岡\\n', '愛知県\\t名古屋\\n']\n",
      "i: 13\n",
      "len(col12lines) % number_of_parts != 0\n",
      "i: 14\n",
      "len(col12lines) % number_of_parts != 0\n",
      "i: 15\n",
      "len(col12lines) % number_of_parts != 0\n",
      "i: 16\n",
      "len(col12lines) % number_of_parts != 0\n",
      "i: 17\n",
      "len(col12lines) % number_of_parts != 0\n",
      "i: 18\n",
      "len(col12lines) % number_of_parts != 0\n",
      "i: 19\n",
      "len(col12lines) % number_of_parts != 0\n",
      "i: 20\n",
      "len(col12lines) % number_of_parts != 0\n",
      "i: 21\n",
      "len(col12lines) % number_of_parts != 0\n",
      "i: 22\n",
      "len(col12lines) % number_of_parts != 0\n",
      "i: 23\n",
      "len(col12lines) % number_of_parts != 0\n",
      "i: 24\n",
      "['高知県\\t江川崎\\n']\n",
      "['埼玉県\\t熊谷\\n']\n",
      "['岐阜県\\t多治見\\n']\n",
      "['山形県\\t山形\\n']\n",
      "['山梨県\\t甲府\\n']\n",
      "['和歌山県\\tかつらぎ\\n']\n",
      "['静岡県\\t天竜\\n']\n",
      "['山梨県\\t勝沼\\n']\n",
      "['埼玉県\\t越谷\\n']\n",
      "['群馬県\\t館林\\n']\n",
      "['群馬県\\t上里見\\n']\n",
      "['愛知県\\t愛西\\n']\n",
      "['千葉県\\t牛久\\n']\n",
      "['静岡県\\t佐久間\\n']\n",
      "['愛媛県\\t宇和島\\n']\n",
      "['山形県\\t酒田\\n']\n",
      "['岐阜県\\t美濃\\n']\n",
      "['群馬県\\t前橋\\n']\n",
      "['千葉県\\t茂原\\n']\n",
      "['埼玉県\\t鳩山\\n']\n",
      "['大阪府\\t豊中\\n']\n",
      "['山梨県\\t大月\\n']\n",
      "['山形県\\t鶴岡\\n']\n",
      "['愛知県\\t名古屋\\n']\n",
      "i: 25\n",
      "len(col12lines) % number_of_parts != 0\n",
      "i: 26\n",
      "len(col12lines) % number_of_parts != 0\n",
      "i: 27\n",
      "len(col12lines) % number_of_parts != 0\n",
      "i: 28\n",
      "len(col12lines) % number_of_parts != 0\n",
      "i: 29\n",
      "len(col12lines) % number_of_parts != 0\n"
     ]
    }
   ],
   "source": [
    "import math\n",
    "\n",
    "\n",
    "def split_lines(nop, lines):\n",
    "    number_of_parts = nop\n",
    "\n",
    "    if ( len(col12lines) % number_of_parts == 0 ):\n",
    "        number_of_lines = int(len(col12lines) / number_of_parts)\n",
    "\n",
    "        for i in range(number_of_parts):\n",
    "            print(col12lines[i*number_of_lines:i*number_of_lines+number_of_lines])\n",
    "            \n",
    "    else:\n",
    "        print('len(col12lines) % number_of_parts != 0')\n",
    "\n",
    "\n",
    "with open('output/col12.txt') as col12:\n",
    "    col12lines = col12.readlines()\n",
    "\n",
    "\n",
    "    \n",
    "for i in range(30):\n",
    "    print('i:', i)\n",
    "    try:\n",
    "        split_lines(i, col12lines)\n",
    "    except:\n",
    "        print('ERROR!')\n"
   ]
  },
  {
   "cell_type": "markdown",
   "metadata": {
    "slideshow": {
     "slide_type": "slide"
    }
   },
   "source": [
    "17. １列目の文字列の異なり\n",
    "------------------------------------------------\n",
    "\n",
    "1列目の文字列の種類（異なる文字列の集合）を求めよ．確認にはsort, uniqコマンドを用いよ．"
   ]
  },
  {
   "cell_type": "code",
   "execution_count": 100,
   "metadata": {
    "collapsed": false,
    "slideshow": {
     "slide_type": "subslide"
    }
   },
   "outputs": [
    {
     "name": "stdout",
     "output_type": "stream",
     "text": [
      "{'山形県\\n', '埼玉県\\n', '岐阜県\\n', '大阪府\\n', '山梨県\\n', '和歌山県\\n', '愛媛県\\n', '群馬県\\n', '千葉県\\n', '静岡県\\n', '愛知県\\n', '高知県\\n'}\n"
     ]
    }
   ],
   "source": [
    "with open('output/col1.txt') as col1:\n",
    "    col1lines = col1.readlines()\n",
    "    \n",
    "col1set = set(col1lines)\n",
    "print(col1set)\n"
   ]
  },
  {
   "cell_type": "markdown",
   "metadata": {
    "slideshow": {
     "slide_type": "slide"
    }
   },
   "source": [
    "18. 各行を3コラム目の数値の降順にソート\n",
    "-------------------------------------\n",
    "各行を3コラム目の数値の逆順で整列せよ（注意: 各行の内容は変更せずに並び替えよ）．確認にはsortコマンドを用いよ（この問題はコマンドで実行した時の結果と合わなくてもよい）．\n",
    "\n"
   ]
  },
  {
   "cell_type": "code",
   "execution_count": 2,
   "metadata": {
    "collapsed": false,
    "slideshow": {
     "slide_type": "subslide"
    }
   },
   "outputs": [
    {
     "name": "stdout",
     "output_type": "stream",
     "text": [
      "41\n",
      "40.9\n",
      "40.9\n",
      "40.8\n",
      "40.7\n",
      "40.6\n",
      "40.6\n",
      "40.5\n",
      "40.4\n",
      "40.3\n",
      "40.3\n",
      "40.3\n",
      "40.2\n",
      "40.2\n",
      "40.2\n",
      "40.1\n",
      "40\n",
      "40\n",
      "39.9\n",
      "39.9\n",
      "39.9\n",
      "39.9\n",
      "39.9\n",
      "39.9\n"
     ]
    }
   ],
   "source": [
    "with open('resources/hightemp.txt') as f:\n",
    "    lines = f.readlines()\n",
    "\n",
    "\n",
    "for line in sorted(lines, key=lambda x: x.split()[2], reverse=True):\n",
    "    print(line.split()[2])\n"
   ]
  },
  {
   "cell_type": "code",
   "execution_count": 156,
   "metadata": {
    "collapsed": false,
    "slideshow": {
     "slide_type": "subslide"
    }
   },
   "outputs": [
    {
     "name": "stdout",
     "output_type": "stream",
     "text": [
      "[['somegoro', 3], ['jiro', 7], ['taro', 10], ['daigoro', 31]]\n",
      "[['daigoro', 31], ['taro', 10], ['jiro', 7], ['somegoro', 3]]\n"
     ]
    }
   ],
   "source": [
    "# sort & lambda 練習\n",
    "num = [10, 8, 7,9, 44, 55]\n",
    "\n",
    "\n",
    "sorted(num)\n",
    "sorted(num, reverse=False)\n",
    "sorted(num, reverse=True)\n",
    "\n",
    "\n",
    "age = [[\"taro\", 10], [\"jiro\", 7], [\"daigoro\", 31], [\"somegoro\", 3]]\n",
    "\n",
    "print(sorted(age, key= lambda x : x[1]))\n",
    "print(sorted(age, key= lambda x : x[1], reverse=True))\n"
   ]
  },
  {
   "cell_type": "markdown",
   "metadata": {
    "slideshow": {
     "slide_type": "slide"
    }
   },
   "source": [
    "19. 各行の1コラム目の文字列の出現頻度を求め，出現頻度の高い順に並べる\n",
    "-------------------------------------------------\n",
    "\n",
    "各行の1列目の文字列の出現頻度を求め，その高い順に並べて表示せよ．確認にはcut, uniq, sortコマンドを用いよ．\n"
   ]
  },
  {
   "cell_type": "code",
   "execution_count": 35,
   "metadata": {
    "collapsed": false,
    "slideshow": {
     "slide_type": "subslide"
    }
   },
   "outputs": [
    {
     "name": "stdout",
     "output_type": "stream",
     "text": [
      "埼玉県 3\n",
      "山形県 3\n",
      "群馬県 3\n",
      "山梨県 3\n",
      "岐阜県 2\n",
      "愛知県 2\n",
      "静岡県 2\n",
      "千葉県 2\n",
      "和歌山県 1\n",
      "大阪府 1\n",
      "愛媛県 1\n",
      "高知県 1\n"
     ]
    }
   ],
   "source": [
    "from collections import defaultdict\n",
    "\n",
    "with open('resources/hightemp.txt') as f:\n",
    "    lines = f.readlines()\n",
    "\n",
    "    \n",
    "dic = defaultdict(int)\n",
    "\n",
    "for line in sorted( lines, key=lambda x : x[0]):\n",
    "    dic[ line.split()[0] ] += 1\n",
    "\n",
    "for k,v in sorted(dic.items(), key=lambda x : x[1], reverse=True):\n",
    "    print(k,v)\n",
    "    "
   ]
  },
  {
   "cell_type": "code",
   "execution_count": null,
   "metadata": {
    "collapsed": true
   },
   "outputs": [],
   "source": []
  }
 ],
 "metadata": {
  "celltoolbar": "Slideshow",
  "kernelspec": {
   "display_name": "Python 3",
   "language": "python",
   "name": "python3"
  },
  "language_info": {
   "codemirror_mode": {
    "name": "ipython",
    "version": 3
   },
   "file_extension": ".py",
   "mimetype": "text/x-python",
   "name": "python",
   "nbconvert_exporter": "python",
   "pygments_lexer": "ipython3",
   "version": "3.5.1"
  },
  "widgets": {
   "state": {},
   "version": "1.1.2"
  }
 },
 "nbformat": 4,
 "nbformat_minor": 0
}
